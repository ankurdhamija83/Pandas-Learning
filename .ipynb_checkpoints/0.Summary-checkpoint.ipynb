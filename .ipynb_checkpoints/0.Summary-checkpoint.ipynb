{
 "cells": [
  {
   "cell_type": "markdown",
   "metadata": {},
   "source": [
    "1. Load Dataset\n",
    "2. Create Series / Dataframe\n",
    "3. Basic commands to get an overview of the dataset\n",
    "4. Select / index / filter / navigate the dataset\n",
    "5. Manipulate the dataset - Apply functions (custom, descriptive statistics), add/del rows and columns, create custom columns, missing values, duplicate\n",
    "6. Data Wrangling - group, sort, merge, pivot, reshape"
   ]
  },
  {
   "cell_type": "markdown",
   "metadata": {},
   "source": [
    "# Summary of key Pandas operations\n",
    "In this guide, we summarize the key operations we can do with Pandas library\n",
    "1. Load dataset - I/O\n",
    "2. Basic overview of the dataset\n",
    "3. Data Selection (Basic / Conditional)\n",
    "4. Data Update (Basic / Conditional)\n",
    "\n",
    "4. Binary Indexing\n",
    "5. Updation\n",
    "6. Summary statistics\n",
    "7. Group\n",
    "8. Filter\n",
    "9. Sort\n",
    "10. Merge, Reshape\n",
    "11. Duplicate\n",
    "12. Missing values\n",
    "13. Visualization\n",
    "\n",
    "\n",
    "\n",
    "We practice these commands on the Titanic train dataset. \n",
    "The dataset can be downloaded from Kaggle website.\n",
    "\n",
    "https://www.kaggle.com/c/titanic/data?select=train.csv"
   ]
  },
  {
   "cell_type": "code",
   "execution_count": 3,
   "metadata": {},
   "outputs": [],
   "source": [
    "import pandas as pd"
   ]
  },
  {
   "cell_type": "markdown",
   "metadata": {},
   "source": [
    "## 1. Load dataset - I/O"
   ]
  },
  {
   "cell_type": "code",
   "execution_count": 4,
   "metadata": {},
   "outputs": [
    {
     "data": {
      "text/html": [
       "<div>\n",
       "<style scoped>\n",
       "    .dataframe tbody tr th:only-of-type {\n",
       "        vertical-align: middle;\n",
       "    }\n",
       "\n",
       "    .dataframe tbody tr th {\n",
       "        vertical-align: top;\n",
       "    }\n",
       "\n",
       "    .dataframe thead th {\n",
       "        text-align: right;\n",
       "    }\n",
       "</style>\n",
       "<table border=\"1\" class=\"dataframe\">\n",
       "  <thead>\n",
       "    <tr style=\"text-align: right;\">\n",
       "      <th></th>\n",
       "      <th>A</th>\n",
       "      <th>B</th>\n",
       "    </tr>\n",
       "  </thead>\n",
       "  <tbody>\n",
       "    <tr>\n",
       "      <th>0</th>\n",
       "      <td>10</td>\n",
       "      <td>30</td>\n",
       "    </tr>\n",
       "    <tr>\n",
       "      <th>1</th>\n",
       "      <td>20</td>\n",
       "      <td>40</td>\n",
       "    </tr>\n",
       "  </tbody>\n",
       "</table>\n",
       "</div>"
      ],
      "text/plain": [
       "    A   B\n",
       "0  10  30\n",
       "1  20  40"
      ]
     },
     "execution_count": 4,
     "metadata": {},
     "output_type": "execute_result"
    }
   ],
   "source": [
    "#Creating a basic dataframe\n",
    "pd.DataFrame({\"A\": [10,20], \"B\":[30,40]})"
   ]
  },
  {
   "cell_type": "code",
   "execution_count": 5,
   "metadata": {},
   "outputs": [
    {
     "data": {
      "text/html": [
       "<div>\n",
       "<style scoped>\n",
       "    .dataframe tbody tr th:only-of-type {\n",
       "        vertical-align: middle;\n",
       "    }\n",
       "\n",
       "    .dataframe tbody tr th {\n",
       "        vertical-align: top;\n",
       "    }\n",
       "\n",
       "    .dataframe thead th {\n",
       "        text-align: right;\n",
       "    }\n",
       "</style>\n",
       "<table border=\"1\" class=\"dataframe\">\n",
       "  <thead>\n",
       "    <tr style=\"text-align: right;\">\n",
       "      <th></th>\n",
       "      <th>FirstName</th>\n",
       "      <th>LastName</th>\n",
       "    </tr>\n",
       "  </thead>\n",
       "  <tbody>\n",
       "    <tr>\n",
       "      <th>Player0</th>\n",
       "      <td>David</td>\n",
       "      <td>Beckham</td>\n",
       "    </tr>\n",
       "    <tr>\n",
       "      <th>Player1</th>\n",
       "      <td>Zlatan</td>\n",
       "      <td>Ibrahimovic</td>\n",
       "    </tr>\n",
       "  </tbody>\n",
       "</table>\n",
       "</div>"
      ],
      "text/plain": [
       "        FirstName     LastName\n",
       "Player0     David      Beckham\n",
       "Player1    Zlatan  Ibrahimovic"
      ]
     },
     "execution_count": 5,
     "metadata": {},
     "output_type": "execute_result"
    }
   ],
   "source": [
    "#Setting the index in the dataframe\n",
    "pd.DataFrame({\"FirstName\": [\"David\",\"Zlatan\"], \"LastName\": [\"Beckham\",\"Ibrahimovic\"]}, index=[\"Player0\",\"Player1\"])"
   ]
  },
  {
   "cell_type": "markdown",
   "metadata": {},
   "source": [
    "<b>What is a Series?</b><br>\n",
    "A Series, by contrast, is a sequence of data values. If a DataFrame is a table, a Series is a list. And in fact you can create one with nothing more than a list:"
   ]
  },
  {
   "cell_type": "code",
   "execution_count": 6,
   "metadata": {},
   "outputs": [
    {
     "data": {
      "text/plain": [
       "0    1\n",
       "1    2\n",
       "2    3\n",
       "3    4\n",
       "4    5\n",
       "dtype: int64"
      ]
     },
     "execution_count": 6,
     "metadata": {},
     "output_type": "execute_result"
    }
   ],
   "source": [
    "pd.Series([1, 2, 3, 4, 5])"
   ]
  },
  {
   "cell_type": "code",
   "execution_count": 7,
   "metadata": {},
   "outputs": [
    {
     "data": {
      "text/plain": [
       "Sales 2018    450\n",
       "Sales 2019    490\n",
       "Sales 2020    530\n",
       "Name: Company ABC Revenue, dtype: int64"
      ]
     },
     "execution_count": 7,
     "metadata": {},
     "output_type": "execute_result"
    }
   ],
   "source": [
    "pd.Series([450,490,530],index=[\"Sales 2018\",\"Sales 2019\",\"Sales 2020\"],name=\"Company ABC Revenue\")"
   ]
  },
  {
   "cell_type": "code",
   "execution_count": 8,
   "metadata": {},
   "outputs": [],
   "source": [
    "#Next, let's load the dataset into a Pandas dataframe\n",
    "df = pd.read_csv('train.csv') \n",
    "\n",
    "#Since, we have the dataset in a csv file, we have used pd.read_csv().\n",
    "#There are different functions based on the type of data we are trying to load in a dataframe.\n",
    "#More details can be found here\n",
    "#https://pandas.pydata.org/pandas-docs/stable/reference/io.html\n",
    "\n",
    "#Pandas provides support to read following filetypes\n",
    "#Table, CSV, Clipboard, Excel, JSON, HTML ,XML, Latex, HDFStore: PyTables (HDF5), Feather, Parquet, ORC, SAS, SPSS, SQL, Google BigQuery and STATA"
   ]
  },
  {
   "cell_type": "markdown",
   "metadata": {},
   "source": [
    "<hr style=\"border:2px solid gray\"> </hr>."
   ]
  },
  {
   "cell_type": "markdown",
   "metadata": {},
   "source": [
    "## 2. Basic overview of the dataset"
   ]
  },
  {
   "cell_type": "markdown",
   "metadata": {},
   "source": [
    "**2.1 Data Overview**\n",
    "- df.info()\n",
    "- df.describe()\n",
    "- df.head()\n",
    "- df.tail()\n",
    "------"
   ]
  },
  {
   "cell_type": "markdown",
   "metadata": {},
   "source": [
    "**2.2 Check rows and columns**\n",
    "- df.keys()\n",
    "- df.axes\n",
    "- df.index\n",
    "- df.columns\n",
    "- df.rename()\n",
    "--------"
   ]
  },
  {
   "cell_type": "markdown",
   "metadata": {},
   "source": [
    "**2.3 Size and shape of the dataset**\n",
    "- df.size\n",
    "- df.shape\n",
    "- df.ndim\n",
    "--------"
   ]
  },
  {
   "cell_type": "markdown",
   "metadata": {},
   "source": [
    "**2.4 Datatypes in the dataset**\n",
    "- df.dtypes\n",
    "- df.select_dtypes(include=['float64'])\n",
    "- df.select_dtypes(exclude=['float64'])\n",
    "\n",
    "-----"
   ]
  },
  {
   "cell_type": "markdown",
   "metadata": {},
   "source": [
    "**2.5 Others**\n",
    "- df.empty\n",
    "\n",
    "-----------"
   ]
  },
  {
   "cell_type": "markdown",
   "metadata": {},
   "source": [
    "<hr style=\"border:2px solid gray\"> </hr>."
   ]
  },
  {
   "cell_type": "markdown",
   "metadata": {},
   "source": [
    "## 3. Data Selection - Basic"
   ]
  },
  {
   "cell_type": "markdown",
   "metadata": {},
   "source": [
    "**3.1 Selecting a single column**\n",
    "- df.columnName\n",
    "- df[\"columnName\"]\n",
    "-----"
   ]
  },
  {
   "cell_type": "markdown",
   "metadata": {},
   "source": [
    "**3.2 Selecting multiple columns**\n",
    "- df[[\"column1\",\"column2\", \"column3\"]]\n",
    "------"
   ]
  },
  {
   "cell_type": "markdown",
   "metadata": {},
   "source": [
    "**3.3 Selecting rows/columns based on index/column number - .iloc**\n",
    "- df.iloc[row_number, column_number]\n",
    "- df.iloc[2,3]\n",
    "------"
   ]
  },
  {
   "cell_type": "markdown",
   "metadata": {},
   "source": [
    "**3.4 Selecting a range of rows and columns using slice operator - .iloc**\n",
    "- df.iloc[2:5,3:10]\n",
    "- df.iloc[1:4, 1:]\n",
    "- df.iloc[:, 2:5]\n",
    "- df.iloc[0:10,:]\n",
    "------"
   ]
  },
  {
   "cell_type": "markdown",
   "metadata": {},
   "source": [
    "**3.5 Selecting specific rows and columns using index - .iloc**\n",
    "- df.iloc[[2,6],[3,10]]\n",
    "- df.iloc[[0,10]]\n",
    "------"
   ]
  },
  {
   "cell_type": "markdown",
   "metadata": {},
   "source": [
    "**3.6 Selecting specific rows and columns based on name - .loc**\n",
    "- df.loc[0:3,[\"PassengerId\",\"Survived\",\"Pclass\",\"Name\",\"Sex\",\"Age\"]]\n",
    "----"
   ]
  },
  {
   "cell_type": "markdown",
   "metadata": {},
   "source": [
    "**3.7 Access a single value for a row/column label pair - .at**\n",
    "- df.at[4,\"Name\"]\n",
    "------"
   ]
  },
  {
   "cell_type": "markdown",
   "metadata": {},
   "source": [
    "**3.8 Access a single value for a row/column label pair using numeric location - .iat**\n",
    "- df.iat[4,3]\n",
    "-------"
   ]
  },
  {
   "cell_type": "markdown",
   "metadata": {},
   "source": [
    "<hr style=\"border:2px solid gray\"> </hr>."
   ]
  },
  {
   "cell_type": "markdown",
   "metadata": {},
   "source": [
    "## 4. Data Selection - Conditional"
   ]
  },
  {
   "cell_type": "markdown",
   "metadata": {},
   "source": [
    "**4.1 Boolean Indexing**\n",
    "\n",
    "Conditional Selection\n",
    "- df.loc[condition for rows, columns to be selected]\n",
    "- df.loc[df['Sex']==\"male\",:]\n",
    "----\n",
    "\n",
    "Multiple conditions\n",
    "- df.loc[(df['Sex']==\"male\") & (df[\"Pclass\"] ==3),:]\n",
    "-------\n",
    "\n",
    "Using bool selector for multiple conditions\n",
    "- bool_selector = (df['Sex']==\"male\") & (df[\"Pclass\"] ==3)\n",
    "- df.loc[bool_selector,:]\n",
    "-----\n",
    "\n",
    "**4.2 Using custom function**\n",
    "- df.loc[lambda df: df[column_name] > 0, :]\n",
    "- df.loc[:, lambda df: ['A', 'B']]\n",
    "\n",
    "---------\n",
    "\n",
    "**4.3 Indexing with .isin()**<br>\n",
    "1. `.isin()` allows you to select rows where one or more columns have values you want:<br>\n",
    "`values = {'ids': ['a', 'b'], 'vals': [1, 3]}`<br>\n",
    "`df.isin(values)`<br><br>\n",
    "\n",
    "2. Combine DataFrame’s isin with the `any()` and `all()` methods to quickly select subsets of your data that meet a given criteria. To select a row where each column meets its own criterion:<br>\n",
    "`row_mask = df.isin(values).all(1)`<br>\n",
    "`df[row_mask]`\n",
    "\n",
    "--------\n",
    "\n",
    "**4.4 Indexing with .where()**<br>\n",
    "Selecting values from a Series with a boolean vector generally returns a subset of the data. To guarantee that selection output has the same shape as the original data, you can use the where method in Series and DataFrame.\n",
    "\n",
    "In addition, where takes an optional other argument for replacement of values where the condition is False, in the returned copy.\n",
    "\n",
    "`df.where(df < 0, -df)`\n",
    "\n",
    "By default, where returns a modified copy of the data. There is an optional parameter inplace so that the original data can be modified without creating a copy:\n",
    "`df_orig.where(df > 0, -df, inplace=True)`\n",
    "\n",
    "-----"
   ]
  },
  {
   "cell_type": "markdown",
   "metadata": {},
   "source": [
    "**4.5 Index with np.where()**<br>\n",
    "An alternative to where() is to use numpy.where(). Combined with setting a new column, you can use it to enlarge a DataFrame where the values are determined conditionally.\n",
    "\n",
    "Consider you have two choices to choose from in the following DataFrame. And you want to set a new column color to ‘green’ when the second column has ‘Z’. You can do the following:\n",
    "\n",
    "`df = pd.DataFrame({'col1': list('ABBC'), 'col2': list('ZZXY')})`<br>\n",
    "`df['color'] = np.where(df['col2'] == 'Z', 'green', 'red')`\n",
    "\n",
    "------"
   ]
  },
  {
   "cell_type": "markdown",
   "metadata": {},
   "source": [
    "**4.6 Index multiple conditions with np.select()**<br>\n",
    "\n",
    "conditions = [\n",
    "    (df['col2'] == 'Z') & (df['col1'] == 'A'),\n",
    "    (df['col2'] == 'Z') & (df['col1'] == 'B'),\n",
    "    (df['col1'] == 'B')\n",
    "]\n",
    "\n",
    "choices = ['yellow', 'blue', 'purple']\n",
    "\n",
    "df['color'] = np.select(conditions, choices, default='black')\n",
    "\n",
    "--------"
   ]
  },
  {
   "cell_type": "markdown",
   "metadata": {},
   "source": [
    "**4.7 Indexing with query()**<br>\n",
    "DataFrame objects have a query() method that allows selection using an expression.\n",
    "\n",
    "You can get the value of the frame where column b has values between the values of columns a and c. For example:\n",
    "\n",
    "- Pure Python<br>\n",
    "`df[(df['a'] < df['b']) & (df['b'] < df['c'])]`\n",
    "<br><br>\n",
    "- Query<br>\n",
    "`df.query('(a < b) & (b < c)')`"
   ]
  },
  {
   "cell_type": "markdown",
   "metadata": {},
   "source": [
    "<hr style=\"border:2px solid gray\"> </hr>."
   ]
  },
  {
   "cell_type": "markdown",
   "metadata": {},
   "source": [
    "## 5. Data Selection - Random Samples\n",
    "\n",
    "**Sampling series**<br>\n",
    "- When no arguments are passed, returns 1 row:<br>\n",
    "s.sample()\n",
    "<br><br>\n",
    "- One may specify either a number of rows:<br>\n",
    "s.sample(n=3)\n",
    "<br><br>\n",
    "- Or a fraction of the rows:<br>\n",
    "s.sample(frac=0.5)\n",
    "<br><br>\n",
    "- With replacement:<br>\n",
    "s.sample(n=6, replace=True)\n",
    "<br><br>\n",
    "- With a given seed, the sample will always draw the same rows.<br>\n",
    "df4.sample(n=2, random_state=2)"
   ]
  },
  {
   "cell_type": "markdown",
   "metadata": {},
   "source": [
    "<hr style=\"border:2px solid gray\"> </hr>."
   ]
  },
  {
   "cell_type": "markdown",
   "metadata": {},
   "source": [
    "## 6. Data Update - Basic"
   ]
  },
  {
   "cell_type": "markdown",
   "metadata": {},
   "source": [
    "**Update an entire column with a constant**\n",
    "- df[\"column_name\"] = 5\n",
    "------"
   ]
  },
  {
   "cell_type": "markdown",
   "metadata": {},
   "source": [
    "**Update an entire column based on some other column**\n",
    "- df[\"column_name\"] = df[\"someothercolumn\"] * 10\n",
    "-------"
   ]
  },
  {
   "cell_type": "markdown",
   "metadata": {},
   "source": [
    "<hr style=\"border:2px solid gray\"> </hr>."
   ]
  },
  {
   "cell_type": "markdown",
   "metadata": {},
   "source": [
    "## 7. Data Update - Custom and Conditional"
   ]
  },
  {
   "cell_type": "markdown",
   "metadata": {},
   "source": [
    "**Custom function using apply**\n",
    "- df[\"column_name\"] = df[\"column_name\"].apply(lambda x: 10 if x == 0 else 20)\n",
    "\n",
    "-------"
   ]
  },
  {
   "cell_type": "markdown",
   "metadata": {},
   "source": [
    "**Conditional Update**"
   ]
  },
  {
   "cell_type": "markdown",
   "metadata": {},
   "source": [
    "#If-then on one column\n",
    "- df.loc[df.AAA >= 5, \"BBB\"] = -1\n",
    "\n",
    "#If-then on two columns\n",
    "- df.loc[df.AAA >= 5, [\"BBB\", \"CCC\"]] = 555\n",
    "\n",
    "--------"
   ]
  },
  {
   "cell_type": "markdown",
   "metadata": {},
   "source": [
    "**Swap column values**\n",
    "- df.loc[:, ['B', 'A']] = df[['A', 'B']].to_numpy()"
   ]
  },
  {
   "cell_type": "markdown",
   "metadata": {},
   "source": [
    "<hr style=\"border:2px solid gray\"> </hr>."
   ]
  },
  {
   "cell_type": "markdown",
   "metadata": {},
   "source": [
    "## 8. Remove Duplicates"
   ]
  },
  {
   "cell_type": "markdown",
   "metadata": {},
   "source": [
    "If you want to identify and remove duplicate rows in a DataFrame, there are two methods that will help: `duplicated` and `drop_duplicates`. Each takes as an argument the columns to use to identify duplicated rows.<br>\n",
    "\n",
    "- `duplicated` returns a boolean vector whose length is the number of rows, and which indicates whether a row is duplicated.\n",
    "\n",
    "- `drop_duplicates` removes duplicate rows."
   ]
  },
  {
   "cell_type": "markdown",
   "metadata": {},
   "source": [
    "**Checking Duplicates in a single column**\n",
    "- df2.duplicated('a', keep=False)\n",
    "- df2.drop_duplicates('a')\n",
    "\n",
    "------"
   ]
  },
  {
   "cell_type": "markdown",
   "metadata": {},
   "source": [
    "**Checking Duplicates in multiple columns**\n",
    "- df2.duplicated(['a', 'b'])\n",
    "- df2.drop_duplicates(['a', 'b'])"
   ]
  },
  {
   "cell_type": "markdown",
   "metadata": {},
   "source": [
    "<hr style=\"border:2px solid gray\"> </hr>."
   ]
  },
  {
   "cell_type": "markdown",
   "metadata": {},
   "source": [
    "## 9. Merge"
   ]
  },
  {
   "cell_type": "code",
   "execution_count": null,
   "metadata": {},
   "outputs": [],
   "source": []
  }
 ],
 "metadata": {
  "kernelspec": {
   "display_name": "Python 3",
   "language": "python",
   "name": "python3"
  },
  "language_info": {
   "codemirror_mode": {
    "name": "ipython",
    "version": 3
   },
   "file_extension": ".py",
   "mimetype": "text/x-python",
   "name": "python",
   "nbconvert_exporter": "python",
   "pygments_lexer": "ipython3",
   "version": "3.8.5"
  }
 },
 "nbformat": 4,
 "nbformat_minor": 4
}
